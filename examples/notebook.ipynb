{
 "cells": [
  {
   "cell_type": "code",
   "execution_count": 1,
   "id": "a9eb2f8c-2527-4ea6-bc1f-8de808a88ad8",
   "metadata": {},
   "outputs": [],
   "source": [
    "import os\n",
    "from dotenv import load_dotenv\n",
    "load_dotenv()\n",
    "from nova import Nova\n",
    "from nova.types import Pose\n",
    "from nova.actions import ptp, jnt"
   ]
  },
  {
   "cell_type": "code",
   "execution_count": 2,
   "id": "7294c7e3",
   "metadata": {},
   "outputs": [],
   "source": [
    "os.environ[\"CELL_ID\"] = \"cell\""
   ]
  },
  {
   "cell_type": "markdown",
   "id": "2dfb16fe",
   "metadata": {},
   "source": [
    "## 🤖 Show Robot-Pad"
   ]
  },
  {
   "cell_type": "code",
   "execution_count": null,
   "id": "b74681ee",
   "metadata": {},
   "outputs": [],
   "source": [
    "from IPython.display import IFrame\n",
    "\n",
    "IFrame(src=\"/cell/robot-pad\", width=700, height=600)"
   ]
  },
  {
   "cell_type": "markdown",
   "id": "6c6696d7-c0c9-46dc-b3b7-b5ae1dbe2e13",
   "metadata": {},
   "source": [
    "## ⚙️ Configure Robot"
   ]
  },
  {
   "cell_type": "code",
   "execution_count": null,
   "id": "73548c34-9434-4043-b6a9-51ac98fac701",
   "metadata": {},
   "outputs": [],
   "source": [
    "nova = Nova()\n",
    "cell = nova.cell()\n",
    "controllers = await cell.controllers()\n",
    "controller = controllers[0]\n",
    "motion_group = controller[0]\n",
    "tcp = (await motion_group.tcp_names())[0]"
   ]
  },
  {
   "cell_type": "markdown",
   "id": "c1002989-6c6d-4b7b-b9e4-491d982cdbd6",
   "metadata": {},
   "source": [
    "## 🔩 Get Robot Props & State"
   ]
  },
  {
   "cell_type": "code",
   "execution_count": null,
   "id": "761caa8e",
   "metadata": {},
   "outputs": [],
   "source": [
    "state = await motion_group.get_state(tcp)\n",
    "state"
   ]
  },
  {
   "cell_type": "code",
   "execution_count": null,
   "id": "d0d6a325",
   "metadata": {},
   "outputs": [],
   "source": [
    "tcp_pose = await motion_group.tcp_pose(tcp)\n",
    "tcp_pose"
   ]
  },
  {
   "cell_type": "markdown",
   "id": "53c6306b-feb3-4c8f-88a4-1dbecda425c6",
   "metadata": {},
   "source": [
    "## 📝 Perform Pose Transforms"
   ]
  },
  {
   "cell_type": "code",
   "execution_count": null,
   "id": "241ee26a-0191-49c5-8fcf-ac7ee760aa64",
   "metadata": {},
   "outputs": [],
   "source": [
    "current_pose = await controller[0].tcp_pose(tcp)\n",
    "# Get current TCP pose and offset it slightly along the x-axis\n",
    "target_pose = current_pose @ Pose((10, 0, 0, 0, 0, 0)) # or current_pose.transform(Pose((10, 0, 0, 0, 0, 0))\n",
    "print(f\"Current\\n{current_pose}\\n\\nTarget\\n{target_pose}\")"
   ]
  },
  {
   "cell_type": "markdown",
   "id": "cedfdfa8-ccd0-43c1-b4ee-a728e3da50e1",
   "metadata": {},
   "source": [
    "## 🎢 Plan a Motion"
   ]
  },
  {
   "cell_type": "code",
   "execution_count": null,
   "id": "2b67506d-4d96-472d-b3f6-9f99dcb76cc6",
   "metadata": {},
   "outputs": [],
   "source": [
    "async with controller[0] as motion_group:\n",
    "    home_joints = await motion_group.joints()\n",
    "    current_pose = await motion_group.tcp_pose(tcp)\n",
    "    target_pose = current_pose @ Pose((1, 0, 0, 0, 0, 0))\n",
    "\n",
    "    actions = [\n",
    "        jnt(home_joints),\n",
    "        ptp(target_pose),\n",
    "        jnt(home_joints),\n",
    "        ptp(target_pose @ [200, 0, 0, 0, 0, 0]),\n",
    "        jnt(home_joints),\n",
    "        ptp(target_pose @ (300, 0, 0, 0, 0, 0)),\n",
    "    ]\n",
    "\n",
    "    plan_response = await motion_group.plan(actions, tcp)\n",
    "    print(plan_response)"
   ]
  },
  {
   "cell_type": "markdown",
   "id": "f3463d22-a9f0-4f81-99d5-53be5579bc18",
   "metadata": {},
   "source": [
    "## 🏃🏽‍♀️ Execute Motion"
   ]
  },
  {
   "cell_type": "code",
   "execution_count": null,
   "id": "49fcd962-099a-44af-97a7-1b3296e7a1f4",
   "metadata": {},
   "outputs": [],
   "source": [
    "async with controller[0] as motion_group:\n",
    "    home_joints = await motion_group.joints()\n",
    "    current_pose = await motion_group.tcp_pose(tcp)\n",
    "    target_pose = current_pose @ Pose((1, 0, 0, 0, 0, 0))\n",
    "\n",
    "    actions = [\n",
    "        jnt(home_joints),\n",
    "        ptp(target_pose),\n",
    "        jnt(home_joints),\n",
    "        ptp(target_pose @ [200, 0, 0, 0, 0, 0]),\n",
    "        jnt(home_joints),\n",
    "        ptp(target_pose @ (300, 0, 0, 0, 0, 0)),\n",
    "        jnt(home_joints),\n",
    "        ptp(target_pose @ Pose((300, 0, 0, 0, 0, 0))),\n",
    "        jnt(home_joints),\n",
    "        ptp(target_pose @ Pose((400, 0, 0, 0, 0, 0))),\n",
    "        jnt(home_joints),\n",
    "        ptp(target_pose),\n",
    "        jnt(home_joints),\n",
    "    ]\n",
    "\n",
    "    joint_trajectory = await motion_group.plan(actions, tcp)\n",
    "    await motion_group.execute(joint_trajectory, tcp, actions=actions)"
   ]
  }
 ],
 "metadata": {
  "kernelspec": {
   "display_name": ".venv",
   "language": "python",
   "name": "python3"
  },
  "language_info": {
   "codemirror_mode": {
    "name": "ipython",
    "version": 3
   },
   "file_extension": ".py",
   "mimetype": "text/x-python",
   "name": "python",
   "nbconvert_exporter": "python",
   "pygments_lexer": "ipython3",
   "version": "3.11.9"
  }
 },
 "nbformat": 4,
 "nbformat_minor": 5
}
